{
 "cells": [
  {
   "cell_type": "code",
   "execution_count": 35,
   "id": "9331df54",
   "metadata": {},
   "outputs": [],
   "source": [
    "import math\n",
    "from bokeh.io import output_file, show\n",
    "from bokeh.models import Ellipse, GraphRenderer, StaticLayoutProvider\n",
    "from bokeh.palettes import Spectral8\n",
    "from bokeh.plotting import figure"
   ]
  },
  {
   "cell_type": "code",
   "execution_count": 36,
   "id": "18230c04",
   "metadata": {},
   "outputs": [],
   "source": [
    "N = 8\n",
    "node_indices = list(range(N))"
   ]
  },
  {
   "cell_type": "code",
   "execution_count": 37,
   "id": "ae699d26",
   "metadata": {},
   "outputs": [],
   "source": [
    "plot = figure(title=\"Graph Layout Demonstration\", x_range=(-6.6,6.6), y_range=(-1.1,1.1),\n",
    "              tools=\"\", toolbar_location=None)"
   ]
  },
  {
   "cell_type": "code",
   "execution_count": 38,
   "id": "f5db7f9d",
   "metadata": {},
   "outputs": [],
   "source": [
    "graph = GraphRenderer()"
   ]
  },
  {
   "cell_type": "code",
   "execution_count": 39,
   "id": "0b8ec338",
   "metadata": {},
   "outputs": [],
   "source": [
    "graph.node_renderer.data_source.add(node_indices, 'index')\n",
    "graph.node_renderer.data_source.add(Spectral8, 'color')\n",
    "graph.node_renderer.glyph = Ellipse(height=0.1, width=0.2, fill_color=\"color\")"
   ]
  },
  {
   "cell_type": "code",
   "execution_count": 40,
   "id": "6721f27a",
   "metadata": {},
   "outputs": [],
   "source": [
    "graph.edge_renderer.data_source.data = dict(\n",
    "    start=[0]*N,\n",
    "    end=node_indices)"
   ]
  },
  {
   "cell_type": "code",
   "execution_count": 41,
   "id": "f009d760",
   "metadata": {},
   "outputs": [],
   "source": [
    "circ = [i*2*math.pi/8 for i in node_indices]\n",
    "x = [math.cos(i) for i in circ]\n",
    "y = [math.sin(i) for i in circ]\n",
    "graph_layout = dict(zip(node_indices, zip(x, y)))\n",
    "graph.layout_provider = StaticLayoutProvider(graph_layout=graph_layout)"
   ]
  },
  {
   "cell_type": "code",
   "execution_count": 42,
   "id": "eadd775c",
   "metadata": {},
   "outputs": [],
   "source": [
    "def bezier(start, end, control, steps):\n",
    "    return [(1-s)**2*start + 2*(1-s)*s*control + s**2*end for s in steps]"
   ]
  },
  {
   "cell_type": "code",
   "execution_count": 43,
   "id": "41b236c8",
   "metadata": {},
   "outputs": [],
   "source": [
    "xs, ys = [], []\n",
    "sx, sy = graph_layout[0]\n",
    "steps = [i/100. for i in range(100)]\n",
    "for node_index in node_indices:\n",
    "    ex, ey = graph_layout[node_index]\n",
    "    xs.append(bezier(sx, ex, 0, steps))\n",
    "    ys.append(bezier(sy, ey, 0, steps))\n",
    "graph.edge_renderer.data_source.data['xs'] = xs\n",
    "graph.edge_renderer.data_source.data['ys'] = ys"
   ]
  },
  {
   "cell_type": "code",
   "execution_count": 44,
   "id": "c4dd022a",
   "metadata": {},
   "outputs": [],
   "source": [
    "plot.renderers.append(graph)"
   ]
  },
  {
   "cell_type": "code",
   "execution_count": 45,
   "id": "d759cd3d",
   "metadata": {},
   "outputs": [],
   "source": [
    "output_file(\"graph.html\")\n",
    "show(plot)"
   ]
  },
  {
   "cell_type": "code",
   "execution_count": null,
   "id": "b3d358e8",
   "metadata": {},
   "outputs": [],
   "source": []
  }
 ],
 "metadata": {
  "kernelspec": {
   "display_name": "Python 3 (ipykernel)",
   "language": "python",
   "name": "python3"
  },
  "language_info": {
   "codemirror_mode": {
    "name": "ipython",
    "version": 3
   },
   "file_extension": ".py",
   "mimetype": "text/x-python",
   "name": "python",
   "nbconvert_exporter": "python",
   "pygments_lexer": "ipython3",
   "version": "3.8.7"
  }
 },
 "nbformat": 4,
 "nbformat_minor": 5
}
